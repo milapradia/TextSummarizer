{
  "nbformat": 4,
  "nbformat_minor": 0,
  "metadata": {
    "colab": {
      "name": "centroid_based_summarizer_word2vec.ipynb",
      "provenance": [],
      "collapsed_sections": []
    },
    "kernelspec": {
      "name": "python3",
      "display_name": "Python 3"
    }
  },
  "cells": [
    {
      "cell_type": "code",
      "metadata": {
        "id": "VL1NUgS8aWYR",
        "outputId": "0435c91a-3ac3-48fe-f95f-72d8a682b22b",
        "colab": {
          "base_uri": "https://localhost:8080/",
          "height": 1000
        }
      },
      "source": [
        "!pip install gensim\n",
        "!apt-get install openjdk-8-jdk-headless -qq > /dev/null\n",
        "import os\n",
        "os.environ[\"JAVA_HOME\"] = \"/usr/lib/jvm/java-8-openjdk-amd64\"\n",
        "!update-alternatives --set java /usr/lib/jvm/java-8-openjdk-amd64/jre/bin/java\n",
        "!java -version\n",
        "!pip install --upgrade language-check\n",
        "!pip install pycontractions\n",
        "!pip install Unidecode\n",
        "!pip install word2number"
      ],
      "execution_count": null,
      "outputs": [
        {
          "output_type": "stream",
          "text": [
            "Requirement already satisfied: gensim in /usr/local/lib/python3.6/dist-packages (3.6.0)\n",
            "Requirement already satisfied: scipy>=0.18.1 in /usr/local/lib/python3.6/dist-packages (from gensim) (1.4.1)\n",
            "Requirement already satisfied: smart-open>=1.2.1 in /usr/local/lib/python3.6/dist-packages (from gensim) (2.2.0)\n",
            "Requirement already satisfied: six>=1.5.0 in /usr/local/lib/python3.6/dist-packages (from gensim) (1.15.0)\n",
            "Requirement already satisfied: numpy>=1.11.3 in /usr/local/lib/python3.6/dist-packages (from gensim) (1.18.5)\n",
            "Requirement already satisfied: requests in /usr/local/lib/python3.6/dist-packages (from smart-open>=1.2.1->gensim) (2.23.0)\n",
            "Requirement already satisfied: urllib3!=1.25.0,!=1.25.1,<1.26,>=1.21.1 in /usr/local/lib/python3.6/dist-packages (from requests->smart-open>=1.2.1->gensim) (1.24.3)\n",
            "Requirement already satisfied: chardet<4,>=3.0.2 in /usr/local/lib/python3.6/dist-packages (from requests->smart-open>=1.2.1->gensim) (3.0.4)\n",
            "Requirement already satisfied: certifi>=2017.4.17 in /usr/local/lib/python3.6/dist-packages (from requests->smart-open>=1.2.1->gensim) (2020.6.20)\n",
            "Requirement already satisfied: idna<3,>=2.5 in /usr/local/lib/python3.6/dist-packages (from requests->smart-open>=1.2.1->gensim) (2.10)\n",
            "update-alternatives: using /usr/lib/jvm/java-8-openjdk-amd64/jre/bin/java to provide /usr/bin/java (java) in manual mode\n",
            "openjdk version \"1.8.0_265\"\n",
            "OpenJDK Runtime Environment (build 1.8.0_265-8u265-b01-0ubuntu2~18.04-b01)\n",
            "OpenJDK 64-Bit Server VM (build 25.265-b01, mixed mode)\n",
            "Collecting language-check\n",
            "  Downloading https://files.pythonhosted.org/packages/97/45/0fd1d3683d6129f30fa09143fa383cdf6dff8bc0d1648f2cf156109cb772/language-check-1.1.tar.gz\n",
            "Building wheels for collected packages: language-check\n",
            "  Building wheel for language-check (setup.py) ... \u001b[?25l\u001b[?25hdone\n",
            "  Created wheel for language-check: filename=language_check-1.1-cp36-none-any.whl size=90190900 sha256=72dc884bfbc9d86fc08a899f94a3ac058701b06d84f2ff2091fa1bd77197ff2c\n",
            "  Stored in directory: /root/.cache/pip/wheels/d5/46/82/90a89c23eac1837364ed7217a9eed71bc9e6ad4825be93968e\n",
            "Successfully built language-check\n",
            "Installing collected packages: language-check\n",
            "Successfully installed language-check-1.1\n",
            "Collecting pycontractions\n",
            "  Downloading https://files.pythonhosted.org/packages/a6/f5/d3ec9491c530cbc03af32ca2c6b69b0e89660daeb2856b485d90f9d82e5e/pycontractions-2.0.1-py3-none-any.whl\n",
            "Requirement already satisfied: gensim>=2.0 in /usr/local/lib/python3.6/dist-packages (from pycontractions) (3.6.0)\n",
            "Requirement already satisfied: language-check>=1.0 in /usr/local/lib/python3.6/dist-packages (from pycontractions) (1.1)\n",
            "Requirement already satisfied: pyemd>=0.4.4 in /usr/local/lib/python3.6/dist-packages (from pycontractions) (0.5.1)\n",
            "Requirement already satisfied: smart-open>=1.2.1 in /usr/local/lib/python3.6/dist-packages (from gensim>=2.0->pycontractions) (2.2.0)\n",
            "Requirement already satisfied: scipy>=0.18.1 in /usr/local/lib/python3.6/dist-packages (from gensim>=2.0->pycontractions) (1.4.1)\n",
            "Requirement already satisfied: numpy>=1.11.3 in /usr/local/lib/python3.6/dist-packages (from gensim>=2.0->pycontractions) (1.18.5)\n",
            "Requirement already satisfied: six>=1.5.0 in /usr/local/lib/python3.6/dist-packages (from gensim>=2.0->pycontractions) (1.15.0)\n",
            "Requirement already satisfied: requests in /usr/local/lib/python3.6/dist-packages (from smart-open>=1.2.1->gensim>=2.0->pycontractions) (2.23.0)\n",
            "Requirement already satisfied: idna<3,>=2.5 in /usr/local/lib/python3.6/dist-packages (from requests->smart-open>=1.2.1->gensim>=2.0->pycontractions) (2.10)\n",
            "Requirement already satisfied: certifi>=2017.4.17 in /usr/local/lib/python3.6/dist-packages (from requests->smart-open>=1.2.1->gensim>=2.0->pycontractions) (2020.6.20)\n",
            "Requirement already satisfied: chardet<4,>=3.0.2 in /usr/local/lib/python3.6/dist-packages (from requests->smart-open>=1.2.1->gensim>=2.0->pycontractions) (3.0.4)\n",
            "Requirement already satisfied: urllib3!=1.25.0,!=1.25.1,<1.26,>=1.21.1 in /usr/local/lib/python3.6/dist-packages (from requests->smart-open>=1.2.1->gensim>=2.0->pycontractions) (1.24.3)\n",
            "Installing collected packages: pycontractions\n",
            "Successfully installed pycontractions-2.0.1\n",
            "Collecting Unidecode\n",
            "\u001b[?25l  Downloading https://files.pythonhosted.org/packages/d0/42/d9edfed04228bacea2d824904cae367ee9efd05e6cce7ceaaedd0b0ad964/Unidecode-1.1.1-py2.py3-none-any.whl (238kB)\n",
            "\u001b[K     |████████████████████████████████| 245kB 2.7MB/s \n",
            "\u001b[?25hInstalling collected packages: Unidecode\n",
            "Successfully installed Unidecode-1.1.1\n",
            "Collecting word2number\n",
            "  Downloading https://files.pythonhosted.org/packages/4a/29/a31940c848521f0725f0df6b25dca8917f13a2025b0e8fcbe5d0457e45e6/word2number-1.1.zip\n",
            "Building wheels for collected packages: word2number\n",
            "  Building wheel for word2number (setup.py) ... \u001b[?25l\u001b[?25hdone\n",
            "  Created wheel for word2number: filename=word2number-1.1-cp36-none-any.whl size=5588 sha256=b0b7e0183821cac330bc179d18a1e320a79ffbf310c3f6c39bce7037cd0ff29c\n",
            "  Stored in directory: /root/.cache/pip/wheels/46/2f/53/5f5c1d275492f2fce1cdab9a9bb12d49286dead829a4078e0e\n",
            "Successfully built word2number\n",
            "Installing collected packages: word2number\n",
            "Successfully installed word2number-1.1\n"
          ],
          "name": "stdout"
        }
      ]
    },
    {
      "cell_type": "code",
      "metadata": {
        "id": "CibYx6Ub8iT9",
        "outputId": "0cba1f27-0c0d-474f-b502-9a6a849598ce",
        "colab": {
          "base_uri": "https://localhost:8080/",
          "height": 129
        }
      },
      "source": [
        "import pandas as pd\n",
        "import numpy as np\n",
        "import logging\n",
        "import sys\n",
        "from time import time\n",
        "import matplotlib.pyplot as plt\n",
        "from nltk.tokenize import sent_tokenize, word_tokenize\n",
        "import nltk\n",
        "nltk.download('punkt')\n",
        "import gensim.downloader as api\n",
        "from gensim.models import Word2Vec\n",
        "word2vec = api.load('word2vec-google-news-300')"
      ],
      "execution_count": null,
      "outputs": [
        {
          "output_type": "stream",
          "text": [
            "[nltk_data] Downloading package punkt to /root/nltk_data...\n",
            "[nltk_data]   Unzipping tokenizers/punkt.zip.\n",
            "[==================================================] 100.0% 1662.8/1662.8MB downloaded\n"
          ],
          "name": "stdout"
        },
        {
          "output_type": "stream",
          "text": [
            "/usr/local/lib/python3.6/dist-packages/smart_open/smart_open_lib.py:252: UserWarning: This function is deprecated, use smart_open.open instead. See the migration notes for details: https://github.com/RaRe-Technologies/smart_open/blob/master/README.rst#migrating-to-the-new-open-function\n",
            "  'See the migration notes for details: %s' % _MIGRATION_NOTES_URL\n"
          ],
          "name": "stderr"
        }
      ]
    },
    {
      "cell_type": "code",
      "metadata": {
        "id": "zeIepv_x9ig2",
        "outputId": "feed1528-6a11-4d50-c64e-95e975b519e3",
        "colab": {
          "base_uri": "https://localhost:8080/",
          "height": 35
        }
      },
      "source": [
        "from google.colab import drive\n",
        "drive.mount('/content/drive', force_remount=True)"
      ],
      "execution_count": null,
      "outputs": [
        {
          "output_type": "stream",
          "text": [
            "Mounted at /content/drive\n"
          ],
          "name": "stdout"
        }
      ]
    },
    {
      "cell_type": "code",
      "metadata": {
        "id": "gBeud9-l9toL"
      },
      "source": [
        "data_directory = \"drive/My Drive/Projects/TextSummarizer/data/\""
      ],
      "execution_count": null,
      "outputs": []
    },
    {
      "cell_type": "code",
      "metadata": {
        "id": "BOajMyNZ_gcI"
      },
      "source": [
        "input_path = data_directory + \"to_summarize.txt\"  #remove ‘content/’ from path then use \n",
        "input_file = open(input_path, \"r\")\n",
        "input_data = input_file.read()"
      ],
      "execution_count": null,
      "outputs": []
    },
    {
      "cell_type": "code",
      "metadata": {
        "id": "t9IONXCwK5IG",
        "outputId": "2f51fadc-2ac2-4c46-8c74-e0835eb3144f",
        "colab": {
          "base_uri": "https://localhost:8080/",
          "height": 222
        }
      },
      "source": [
        "print(input_data)"
      ],
      "execution_count": null,
      "outputs": [
        {
          "output_type": "stream",
          "text": [
            "﻿Cambodia's two-party opposition asked the Asian Development Bank Monday to stop providing loans to the incumbent government, which it calls illegal. Negotiations to form the next government have become deadlocked, and opposition party leaders Prince Norodom Ranariddh and Sam Rainsy are out of the country following threats of arrest from strongman Hun Sen. Hun Sen complained Monday that the opposition was trying to make its members' return an international issue. Hun Sen's ruling party narrowly won a majority in elections in July, but the opposition _ claiming widespread intimidation and fraud _ has denied Hun Sen the two-thirds vote in parliament required to approve the next government. Meanwhile, it says, the old government is holding power illegally. Ranariddh and Sam Rainsy renewed their international lobbying campaign against the old government Monday in a letter to ADB President Mitsuo Sato calling for the bank to stop lending money to it. ``We respectfully advise the Asian Development Bank not to provide any new loans to the current regime in Cambodia,'' the two party leaders wrote. ``At best the current regime could be considered a caretaker government as it has not been approved by the National Assembly.'' After a meeting between Hun Sen and the new French ambassador to Cambodia, Hun Sen aide Prak Sokhonn said the Cambodian leader had repeated calls for the opposition to return, but expressed concern that the international community may be asked for security guarantees. ``There have been reports that there is an attempt to internationalize the return of those members of parliament on the excuse of security problems,'' Prak Sokhonn said. ``Some (opposition politicians) have wanted the United Nations to help guarantee a safe return for them.'' The U.N. secretary-general's representative office in Phnom Penh provided monitors to opposition politicians after they returned to Cambodia to participate in the July election. The monitoring ended Sept. 30. ``Our office has not received any official request for that operation to be started up again,'' U.N. diplomat Jonathan Prentice said Monday in reaction to Prak Sokhonn's statement. The opposition has insisted that any further talks on the next government must take place outside the country, but the ruling party has rejected allegations of intimidation and recently guaranteed opposition members' safety inside the country. Diplomatic efforts to revive the stalled talks appeared to bear fruit Monday as Japanese Foreign Affairs Secretary of State Nobutaka Machimura said King Norodom Sihanouk has called on Ranariddh and Sam Rainsy to return to Cambodia. Less than two weeks after abandoning hope that he could influence the parties to reach a compromise, Sihanouk is now ``strongly interested'' in presiding over a summit meeting of the three party leaders in Cambodia, Machimura said. \n",
            "Cambodia's leading opposition party ruled out sharing the presidency of Parliament with its arch foe Saturday, insisting it alone must occupy the top position in the legislative body. Disputes over the presidency have been a major stumbling block in talks between the two-party opposition bloc and the Cambodian People's Party to form a new government. Cambodian leader Hun Sen, who heads the CPP, has offered to share the legislature's top job with the royalist FUNCINPEC party of Prince Norodom Ranariddh in order to break the impasse. The prince's party, in a statement dated Friday and seen Saturday, said such a scenario was unconstitutional. ``Co-sharing anything with the CPP means surrendering full power to them. Furthermore, such a proposal is unconstitutional,'' the faxed statement said. The royalist party also rejected Hun Sen's calls to hold bilateral talks, insisting that Ranariddh's main ally Sam Rainsy also be included. ``No party with seats at the National Assembly should be left out if transparency and a check and balance system is to be used in government,'' the statement said, adding that the Sam Rainsy Party should also be given chairmanship of one of the national assembly's nine commissions. Noting that FUNCINPEC allowed the CPP to hold the presidency despite its win in the 1993 general elections, the statement said it was now its turn to take the post. In the most recent elections, held in July, Hun Sen's party collected 64 of the 122 parliamentary seats, but was short of the two-thirds majority needed to set up a new government. Fearing arrest, many opposition members of Parliament left Cambodia after the ceremonial opening of the National Assembly on Sep. 24. A series of negotiations to forge a new government have failed. The talks have been complicated by the CPP-FUNCINPEC quarrel over the Parliament's top job. Hun Sen's party recently called on Ranariddh to return to the negotiation table and said it was willing to make an ``appropriate concession'' to break the deadlock over forming a government. FUNCINPEC has demanded from Hun Sen written guarantees for the safety of its members and activities as a precondition for re-entering negotiations. \n",
            "Cambodian leader Hun Sen has guaranteed the safety and political freedom of all politicians, trying to ease the fears of his rivals that they will be arrested or killed if they return to the country. The assurances were aimed especially at Sam Rainsy, leader of a vocally anti-Hun Sen opposition party, who was forced to take refuge in the U.N. offices in September to avoid arrest after Hun Sen accused him of being behind a plot against his life. Sam Rainsy and the 14 members of parliament from his party have been holed up overseas for two months. But a deal reached between Hun Sen and his chief rival, Prince Norodom Ranariddh, on forming a new government last week has opened the door for their return. In a letter to King Norodom Sihanouk _ the prince's father and Cambodia's head of state _ that was broadcast on television Tuesday, Hun Sen said that guarantees of safety extended to Ranariddh applied to all politicians. His assurances come a week before the first session of Cambodia's new parliament, the National Assembly. Sam Rainsy said Wednesday that he was unsatisfied with the guarantee. He said it contained indirect language and loopholes that suggest he and his Sam Rainsy Party members are still under threat of arrest from Hun Sen's ruling party. ``It should be easy for them to say, `Rainsy and the SRP members of the assembly have no charges against them and will not be arrested,''' the opposition leader said in a statement. ``But instead they make roundabout statements, full of loopholes that can easily be exploited by a legal system that is completely in their control.'' Ranariddh told reporters Wednesday that he believed it was safe for Sam Rainsy in Cambodia. Speaking upon his return from a brief stay in Bangkok, the prince said he would soon meet with Hun Sen to discuss the apportioning of ministries in the new coalition government. Last week, Hun Sen's Cambodian People's Party and Ranariddh's FUNCINPEC party agreed to form a coalition that would leave Hun Sen as sole prime minister and make the prince president of the National Assembly. The deal assures the two-thirds vote in parliament needed to approve a new government. The men served as co-prime ministers until Hun Sen overthrew Ranariddh in a coup last year. ``I think Hun Sen has got everything. He's got the premiership and legitimacy through the election and recognition from his majesty the king. I don't think there is any benefit for Hun Sen to cause instability for our country,'' Ranariddh said. The prince also said that his top general, Nhek Bunchhay, would not be given back his previous position as the second-ranking general in the Cambodian military's general staff. Nhek Bunchhay's outnumbered forces in the capital put up tough but unsuccessful resistance to last year's coup. \n",
            "Cambodian leader Hun Sen has guaranteed the safety and political freedom of all politicians, trying to ease the fears of his rivals that they will be arrested or killed if they return to the country. The assurances were aimed especially at Sam Rainsy, leader of a vocally anti-Hun Sen opposition party, who was forced to take refuge in the U.N. offices in September to avoid arrest after Hun Sen accused him of being behind a plot against his life. Sam Rainsy and the 14 members of parliament from his party have been holed up overseas for two months. But a deal reached between Hun Sen and his chief rival, Prince Norodom Ranariddh, on forming a new government last week has opened the door for their return. In a letter to King Norodom Sihanouk _ the prince's father and Cambodia's head of state _ that was broadcast on television Tuesday, Hun Sen said that guarantees of safety extended to Ranariddh applied to all politicians. His assurances come a week before the first session of Cambodia's new parliament, the National Assembly. Sam Rainsy said Wednesday that he was unsatisfied with the guarantee. He said it contained indirect language and loopholes that suggest he and his Sam Rainsy Party members are still under threat of arrest from Hun Sen's ruling party. ``It should be easy for them to say, `Rainsy and the SRP members of the assembly have no charges against them and will not be arrested,''' the opposition leader said in a statement. ``But instead they make roundabout statements, full of loopholes that can easily be exploited by a legal system that is completely in their control.'' Ranariddh told reporters Wednesday that he believed it was safe for Sam Rainsy in Cambodia. Speaking upon his return from a brief stay in Bangkok, the prince said he would soon meet with Hun Sen to discuss the apportioning of ministries in the new coalition government. Last week, Hun Sen's Cambodian People's Party and Ranariddh's FUNCINPEC party agreed to form a coalition that would leave Hun Sen as sole prime minister and make the prince president of the National Assembly. The deal assures the two-thirds vote in parliament needed to approve a new government. The men served as co-prime ministers until Hun Sen overthrew Ranariddh in a coup last year. ``I think Hun Sen has got everything. He's got the premiership and legitimacy through the election and recognition from his majesty the king. I don't think there is any benefit for Hun Sen to cause instability for our country,'' Ranariddh said. The prince also said that his top general, Nhek Bunchhay, would not be given back his previous position as the second-ranking general in the Cambodian military's general staff. Nhek Bunchhay's outnumbered forces in the capital put up tough but unsuccessful resistance to last year's coup. \n",
            "King Norodom Sihanouk on Tuesday praised agreements by Cambodia's top two political parties _ previously bitter rivals _ to form a coalition government led by strongman Hun Sen. In a short letter sent to news agencies, the king said he had received copies of cooperation agreements signed Monday that will place Hun Sen and his Cambodian People's Party in firm control of fiscal and administrative functions in the government. ``The protocol on cooperation between the CPP and FUNCINPEC will certainly bring peace and progress to our nation and people,'' Sihanouk wrote. Uncompromising enemies just a few months ago, Hun Sen and FUNCINPEC President Prince Norodom Ranariddh agreed Nov. 13 to form a government at a summit convened by Sihanouk. The deal, which will make Hun Sen prime minister and Ranariddh president of the National Assembly, ended more than three months of political deadlock that followed a July election narrowly won by Hun Sen. Key to the agreement was the formation of a Senate as the upper house of Parliament, to be led by CPP President Chea Sim, the outgoing head of the National Assembly. Sihanouk, recalling procedures used in a past government, suggested Tuesday that he should appoint the first two members of the upper house. The remaining senators, he said, should be selected by a method agreed upon by the new government and the National Assembly. Hun Sen said Monday that the CPP and FUNCINPEC had agreed that the Senate would be half as large as the 122-seat National Assembly. Other details of the Senate, including how much power it will be given in the promulgation of legislation, have yet to be ironed out by the two parties. \n",
            "ing Norodom Sihanouk has declined requests to chair a summit of Cambodia's top political leaders, saying the meeting would not bring any progress in deadlocked negotiations to form a government. Cambodian leader Hun Sen's ruling party and the two-party opposition had called on the monarch to lead top-level talks, but disagreed on its location. ``Papa will not preside over any summit meeting between the three parties, whether it is held in Phnom Penh or Beijing, because such a meeting will certainly achieve no result,'' Sihanouk wrote in an Oct. 17 letter to his son, Prince Norodom Ranariddh, leader of the senior opposition FUNCINPEC party. A copy of the letter was obtained Thursday. In it, the king called on the three parties to make compromises to end the stalemate: ``Papa would like to ask all three parties to take responsibility before the nation and the people.'' Hun Sen used Thursday's anniversary of a peace agreement ending the country's civil war to pressure the opposition to form a coalition government with his party. ``Only those who want to prolong the anarchy and instability prevent efforts to set up a new government,'' Hun Sen said in a televised speech marking the anniversary of the 1991 Paris Peace Accords. Hun Sen's party won 64 of the 122 seats in parliament in July's national election, but not the two-thirds majority necessary to form a government on its own. Opposition parties led by Ranariddh and former finance minister Sam Ram Rainsy have refused to enter into a coalition with Hun Sen until their allegations of election fraud have been thoroughly investigated. International monitors said the election was relatively free and fair. Hun Sen said his current government would remain in power as long as the opposition refused to form a new one. Ranariddh and Sam Rainsy have remained outside the country since the Sept. 24 ceremonial convening of parliament. Citing Hun Sen's threats to arrest opposition politicians following two alleged attempts on his life, Ranariddh and Sam Rainsy have said they do not feel safe negotiating inside the country and asked the king to chair the summit at his residence in Beijing. Hun Sen has rejected the opposition's reservations, saying it would be inappropriate to hold a summit outside the country. Negotiations so far have proved fruitless except for the opening of parliament after a Sept. 22 summit led by the king. Hun Sen implied Thursday that the opposition failed to follow through on promises made at the summit. ``If those results are strictly respected, there seems no reason to hold another summit,'' Hun Sen said in a speech on the anniversary of the 1991 Paris Peace Accords. Sihanouk is reportedly set to fly to Beijing next month to receive medical treatment from his Chinese doctors. The 75-year-old monarch suffers from a variety ailments and periodically makes extended trips to Beijing. He was diagnosed with colon cancer in 1993, but it has since gone into remission. In September, thousands of people filled the streets of Phnom Penh to protest against the alleged election fraud. Hun Sen ordered police to break up the demonstrations. At least four demonstrators were killed by police, but the discovery of more than 20 bodies in the aftermath has prompted speculation that the death tally could be much higher. In his speech, Hun Sen blamed the violence on opposition leaders, saying the demonstrations instigated social and economic chaos. \n",
            "Cambodian politicians expressed hope Monday that a new partnership between the parties of strongman Hun Sen and his rival, Prince Norodom Ranariddh, in a coalition government would not end in more violence. Hun Sen and Ranariddh, co-prime ministers in a coalition formed in 1993 after a landmark U.N.-sponsored election, often clashed over power-sharing and the integration of guerrilla fighters from the crumbling Khmer Rouge. Their arguments turned bloody last year when Hun Sen ousted Ranariddh in a coup. The prince fled Cambodia and did not return until a few months before elections in July. Hun Sen's Cambodian People's Party narrowly won the polls, but a strong second-place finish by Ranariddh's FUNCINPEC gave the royalist party leverage in post-election negotiations. After a three-month impasse, they agreed last week to a coalition deal that will make Hun Sen sole prime minister and Ranariddh president of the National Assembly. ``This will not be a repetition of 1993 because there will not be two prime ministers,'' said Hun Sen aide Prak Sokhon, who attended last week's summit. ``When we had two prime ministers, everything moved very slowly and decisions were made more politically than technically.'' Ranariddh said Saturday that the two parties agreed to keep the ministries of interior and defense under co-ministers. Senior FUNCINPEC official Ahmad Yahya revealed Monday that it was also agreed that the CPP would control the foreign affairs and finance portfolios. FUNCINPEC will take justice and information. The parties are to form working groups this week to divide remaining government posts and draft a constitutional amendment to form a new Senate. Hun Sen and Ranariddh are scheduled to meet Nov. 23 _ two days before parliament reopens _ to review the results of the working groups and give their final approval, Ahmad Yahya said. Their ability to repair their relationship and work together will be the key to a stable coalition. ``I consider this a remarriage,'' Ahmad Yahya said. ``They have to be careful with the way they work and what they say. They will have to compromise to achieve results.'' Ranariddh's ally, Sam Rainsy, whose party placed a distant third in the election, was left out of last week's deal. Sam Rainsy, a virulent critic of Hun Sen, and his party's 14 other members of parliament have remained outside Cambodia since September amid fears for their security. In a letter to King Norodom Sihanouk released Monday, Sam Rainsy complained that Hun Sen had not responded to his queries on security, making it unsafe for his people to return for the reconvening of parliament. Sam Rainsy said he had been told by Ranariddh that his party and former Khmer Rouge guerrillas had been implicated by Hun Sen in a rocket attack on the Sept. 24 opening of parliament. Authorities have called it an assassination attempt on Hun Sen. A police general investigating the attack said Monday that likely suspects have been identified, but he would not reveal names or their political affiliation. \n",
            "Worried that party colleagues still face arrest for their politics, opposition leader Sam Rainsy sought further clarification Friday of security guarantees promised by strongman Hun Sen. Sam Rainsy wrote in a letter to King Norodom Sihanouk that he was eager to attend the first session of the new National Assembly on Nov. 25, but complained that Hun Sen's assurances were not strong enough to ease concerns his party members may be arrested upon their return to Cambodia. Hun Sen announced a government guarantee Wednesday of all politicians' safety and their right to conduct political activities ``in accordance with the laws in force.'' Sam Rainsy, who earlier called Hun Sen's statement ``full of loopholes,'' asked Sihanouk for his help in obtaining a promise from Hun Sen that all members of the Sam Rainsy Party were free from prosecution for their political activities during and after last July's election. Sam Rainsy, a staunch critic of Hun Sen, was forced to take refuge in a U.N. office in September to avoid arrest after Hun Sen accused him of being behind a plot against his life. The alleged assassination attempt came during massive street demonstrations organized by the opposition after Hun Sen's Cambodian People's Party narrowly won the election. The opposition, alleging widespread fraud and intimidation, refused to accept the results of the polls. Fearing for their safety, Sam Rainsy and his then-ally Prince Norodom Ranariddh led an exodus of opposition lawmakers out of Cambodia after parliament was ceremonially opened in late September. Ranariddh, whose FUNCINPEC party finished a close second in the election, returned last week and struck a deal with Hun Sen to form a coalition government. The agreement will make Hun Sen prime minister and Ranariddh president of the National Assembly. The two parties have formed three working groups to hammer out details of the agreement, including the establishment of a Senate to be the upper house of parliament. Sok An, representing Hun Sen's party, said Friday that one working group had completed its work on a joint political platform to be implemented by the new government. The platform is said to emphasize administrative, economic and judicial reforms, but Sok An would not reveal details, saying Hun Sen would announce it when he presents his Cabinet choices to the National Assembly. \n",
            "Cambodian leader Hun Sen on Friday rejected opposition parties' demands for talks outside the country, accusing them of trying to ``internationalize'' the political crisis. Government and opposition parties have asked King Norodom Sihanouk to host a summit meeting after a series of post-election negotiations between the two opposition groups and Hun Sen's party to form a new government failed. Opposition leaders Prince Norodom Ranariddh and Sam Rainsy, citing Hun Sen's threats to arrest opposition figures after two alleged attempts on his life, said they could not negotiate freely in Cambodia and called for talks at Sihanouk's residence in Beijing. Hun Sen, however, rejected that. ``I would like to make it clear that all meetings related to Cambodian affairs must be conducted in the Kingdom of Cambodia,'' Hun Sen told reporters after a Cabinet meeting on Friday. ``No-one should internationalize Cambodian affairs. It is detrimental to the sovereignty of Cambodia,'' he said. Hun Sen's Cambodian People's Party won 64 of the 122 parliamentary seats in July's elections, short of the two-thirds majority needed to form a government on its own. Ranariddh and Sam Rainsy have charged that Hun Sen's victory in the elections was achieved through widespread fraud. They have demanded a thorough investigation into their election complaints as a precondition for their cooperation in getting the national assembly moving and a new government formed. Hun Sen said on Friday that the opposition concerns over their safety in the country was ``just an excuse for them to stay abroad.'' Both Ranariddh and Sam Rainsy have been outside the country since parliament was ceremonially opened on Sep. 24. Sam Rainsy and a number of opposition figures have been under court investigation for a grenade attack on Hun Sen's Phnom Penh residence on Sep. 7. Hun Sen was not home at the time of the attack, which was followed by a police crackdown on demonstrators contesting Hun Sen's election victory. The Sam Rainsy Party, in a statement released Friday, accused Hun Sen of being ``unwilling to make any compromise'' on negotiations to break the deadlock. ``A meeting outside Cambodia, as suggested by the opposition, could place all parties on more equal footing,'' said the statement. ``But the ruling party refuses to negotiate unless it is able to threaten its negotiating partners with arrest or worse.'' \n",
            "Cambodia's ruling party responded Tuesday to criticisms of its leader in the U.S. Congress with a lengthy defense of strongman Hun Sen's human rights record. The Cambodian People's Party criticized a non-binding resolution passed earlier this month by the U.S. House of Representatives calling for an investigation into violations of international humanitarian law allegedly committed by Hun Sen. Events mentioned in the resolution include Hun Sen's coup last year against his co-prime minister, Prince Norodom Ranariddh, and his violent crackdown in September against anti-government demonstrations. A copy of the resolution has since been submitted to the U.S. Senate Committee on Foreign Relations. ``The CPP would like to launch an appeal to U.S. senators to wisely and realistically consider this draft resolution and give justice to the CPP, Hun Sen and the Cambodian people by not approving it,'' the party said in a statement. It defended Hun Sen's ouster of Ranariddh as a proper response to the prince's attempts at the time to negotiate the defections of senior Khmer Rouge rebels. It also repeated claims that the prince's party had moved rebel soldiers into Phnom Penh, a contention that remains unproved. The killings of nearly 100 of Ranariddh's supporters documented by U.N. human rights workers in the aftermath of the coup were dismissed by the CPP as mostly fabrications meant to distort the political situation. Ranariddh and his core supporters did not return to Cambodia until a few months before an election in July this year that the ruling party narrowly won. Ranariddh and his opposition ally, Sam Rainsy, refused to accept the election results, alleging widespread intimidation and fraud by the CPP. When their claims were dismissed by a Hun Sen-friendly court, they rallied their supporters into the streets of Phnom Penh. After two weeks of tolerating the demonstrations, Hun Sen ordered a violent crackdown that resulted in the deaths of at least four protesters. U.N. human rights workers later discovered more than 20 bodies _ many bearing signs of torture _ in and around the capital, prompting speculation that the death toll could be much higher. The ruling party supported the police action in its statement, noting that public property was damaged by protesters and that grenades were thrown at Hun Sen's home after Sam Rainsy suggested in a speech that the U.S. government should fire cruise missiles at Hun Sen. The opposition claims the grenade attack was staged as an excuse to begin the crackdown. ``The leaders of illegal demonstrations are the ones who must bear responsibility for the consequences deriving from the protest,'' the CPP said Tuesday, referring to the deadly violence as ``minor incidents.'' The ruling party also reminded the United States that Washington supported a Cambodian exile government dominated by the brutal Khmer Rouge in the 1980s. The Khmer Rouge was responsible for the deaths of as many as 2 million people during the guerrilla group's 1975-79 rule of Cambodia. After a series of border clashes, the Khmer Rouge was ousted from power by an invading Vietnamese army that set up a surrogate Cambodian communist government later led by Hun Sen. The ruling party accused U.S. policy-makers of not taking timely action to save the Cambodian people from the Khmer Rouge. ``They must not make unjust accusations against those who led the struggle to liberate the people from genocide,'' it added.\n"
          ],
          "name": "stdout"
        }
      ]
    },
    {
      "cell_type": "markdown",
      "metadata": {
        "id": "zRPutRXvwnKX"
      },
      "source": [
        "https://github.com/sdimi/average-word2vec"
      ]
    },
    {
      "cell_type": "code",
      "metadata": {
        "id": "3m5j_874lpkr"
      },
      "source": [
        "def avgEmbed(x):\n",
        "  #print(x)\n",
        "  count = 0\n",
        "  allvecs = []\n",
        "\n",
        "  for i in sent_tokenize(x): \n",
        "    temp = [] \n",
        "      \n",
        "    # tokenize the sentence into words \n",
        "    for j in word_tokenize(i): \n",
        "        if j in word2vec.vocab:\n",
        "          allvecs.append(word2vec[j]) \n",
        "  allvecs = np.array(allvecs)\n",
        "  avg_vec = np.mean(allvecs, axis=0)\n",
        "  return avg_vec"
      ],
      "execution_count": null,
      "outputs": []
    },
    {
      "cell_type": "code",
      "metadata": {
        "id": "sxb5QBOyYzSl",
        "outputId": "dada1a24-53a4-4630-d048-0ef8a43a0688",
        "colab": {
          "base_uri": "https://localhost:8080/",
          "height": 977
        }
      },
      "source": [
        "centroid_embedding = avgEmbed(input_data)\n",
        "print(\"centroid embedding\")\n",
        "print(centroid_embedding)\n",
        "print()"
      ],
      "execution_count": null,
      "outputs": [
        {
          "output_type": "stream",
          "text": [
            "centroid embedding\n",
            "[ 0.01869853  0.06292582  0.06161173  0.03106331 -0.05463019 -0.07770131\n",
            "  0.00263508 -0.08327677  0.08296008  0.06438486 -0.03158617 -0.06306413\n",
            " -0.02830565  0.0678649  -0.11372563  0.04595166  0.05240729  0.06050681\n",
            " -0.01225189 -0.04943531  0.00328563  0.02809335  0.02078725 -0.00133217\n",
            "  0.0405976  -0.04758782 -0.04896661  0.00807588  0.04299694  0.00847158\n",
            "  0.00337915 -0.04487269 -0.04657102  0.04130132  0.02836825  0.0003048\n",
            "  0.00248095  0.01660331  0.01312113  0.01442963  0.03831381 -0.06367771\n",
            "  0.1115034  -0.01442335 -0.04121671 -0.04220043 -0.05493278  0.03350885\n",
            " -0.01318608  0.04669963  0.03324495  0.02512429 -0.01421917 -0.00064877\n",
            " -0.03891816  0.05784785 -0.07771877 -0.05435426  0.01063848 -0.08135227\n",
            " -0.04423559  0.09048653 -0.05591033 -0.04696152 -0.01769464 -0.00975741\n",
            "  0.01079938  0.08900593  0.01451333  0.08785807  0.03963256  0.02858258\n",
            "  0.07670301  0.03653375 -0.07222239 -0.05686497  0.07227369  0.07543328\n",
            "  0.07816242  0.08086504  0.01498278 -0.04937828  0.02866633  0.01017556\n",
            " -0.02167523 -0.09205893 -0.07268826  0.05032226 -0.00646617 -0.00115542\n",
            "  0.06770167 -0.02492629 -0.04844728 -0.08786197 -0.03188733 -0.04594721\n",
            "  0.03150706 -0.00969599  0.00877878 -0.01139636 -0.00681603 -0.04044612\n",
            "  0.00291331  0.00383291 -0.00264049 -0.01010287 -0.03462553 -0.08141644\n",
            "  0.04705976 -0.02573952 -0.02268597 -0.00886429 -0.01524303 -0.01220024\n",
            "  0.03196958 -0.00818543  0.04784263 -0.04578645  0.09412991  0.08166949\n",
            " -0.04463651  0.04148674 -0.0710269   0.01190106 -0.04037321 -0.01483459\n",
            " -0.01557561 -0.0654058   0.01892538  0.01627231  0.0108543  -0.03118095\n",
            " -0.05211468 -0.03944129 -0.07085358 -0.02574832 -0.01016606 -0.00077337\n",
            " -0.0291744   0.05560124  0.01895977 -0.01502089  0.00651947  0.03264847\n",
            "  0.03808031 -0.01516033 -0.03575889 -0.0511478  -0.04239333  0.0320324\n",
            "  0.11305648  0.01168462 -0.02546715  0.01594888  0.03378518 -0.05006866\n",
            " -0.03490564 -0.06733917  0.00932942 -0.01041611 -0.03810514  0.02706623\n",
            "  0.07478061  0.01869025 -0.01868213 -0.06485922  0.04029718  0.00331808\n",
            "  0.05975972  0.00415624 -0.06075655 -0.02169972 -0.02920835 -0.08379553\n",
            "  0.0249881  -0.07701992  0.04337628 -0.02466879 -0.00886644 -0.04129334\n",
            " -0.0687319  -0.01367787 -0.01890185 -0.00726937  0.00743572  0.00283287\n",
            "  0.01839091  0.04274223  0.06865442  0.04978978 -0.00969622  0.00781714\n",
            "  0.01072295  0.03370416 -0.04312643  0.01672159  0.01477041  0.00707833\n",
            " -0.00716095 -0.08824955 -0.00619162  0.02714409  0.02132491 -0.00294935\n",
            "  0.016792   -0.03693222  0.02515324 -0.01094417 -0.00838037 -0.04356705\n",
            " -0.01214001 -0.00929565  0.02566111  0.02681992 -0.0680061   0.01052534\n",
            "  0.03224699  0.02233545 -0.08169747  0.01449352  0.01344572  0.004573\n",
            "  0.02087349 -0.01328733  0.07961222 -0.04724484  0.04215955  0.11244573\n",
            "  0.07486095  0.02643755  0.01057834 -0.03056203  0.00191454  0.02234656\n",
            "  0.06251246 -0.01045088  0.02451681 -0.0321551   0.0354137  -0.02314968\n",
            "  0.02158569 -0.04529135 -0.0033384  -0.05064295  0.03057872 -0.00552281\n",
            " -0.00380349  0.02680925  0.05335049 -0.01987853  0.00176297  0.00723031\n",
            " -0.00753983  0.03517443  0.06299309 -0.00139205  0.05580344  0.00822661\n",
            " -0.01859798 -0.03889818  0.00203162  0.04164311  0.00834197  0.07061375\n",
            "  0.06623412  0.11798234 -0.060181    0.00568908 -0.036222    0.02863853\n",
            "  0.06595683  0.04718095  0.04785835  0.00113043  0.06365459 -0.02502856\n",
            " -0.02202412 -0.10767979 -0.0193881  -0.0025582  -0.00249273 -0.03014466\n",
            "  0.00103967  0.08335564  0.04802019 -0.02205963 -0.06558154  0.03585531\n",
            "  0.02574532  0.04000102 -0.10322012  0.00209151 -0.04880721  0.01206601\n",
            " -0.02508051 -0.00400876 -0.02975614 -0.03090635  0.03593927  0.02348499]\n",
            "\n"
          ],
          "name": "stdout"
        }
      ]
    },
    {
      "cell_type": "code",
      "metadata": {
        "id": "qwgqvH3QeYuz"
      },
      "source": [
        "sentences = []\n",
        "sentences_embeddings = []\n",
        "\n",
        "for sent in sent_tokenize(input_data):\n",
        "  sentences.append(sent)\n",
        "  sentences_embeddings.append(avgEmbed(sent))"
      ],
      "execution_count": null,
      "outputs": []
    },
    {
      "cell_type": "code",
      "metadata": {
        "id": "n9gkH3D3L8nm"
      },
      "source": [
        "from scipy.spatial.distance import cosine"
      ],
      "execution_count": null,
      "outputs": []
    },
    {
      "cell_type": "code",
      "metadata": {
        "id": "I10NKYmxhUxS"
      },
      "source": [
        "record = []\n",
        "for i in range(len(sentences_embeddings)):\n",
        "  similarity = (1 - cosine(centroid_embedding, sentences_embeddings[i]))\n",
        "  record.append((i, similarity))\n",
        "rank = list(reversed(sorted(record, key=lambda tup: tup[1])))"
      ],
      "execution_count": null,
      "outputs": []
    },
    {
      "cell_type": "code",
      "metadata": {
        "id": "qeW80urAqp7m"
      },
      "source": [
        "sentence_ids = []\n",
        "summary_char_num = 0\n",
        "stop = False\n",
        "i = 0\n",
        "redundancy_threshold = 0.95\n",
        "summary_limit = 500\n",
        "\n",
        "while not stop and i < len(rank):\n",
        "  sentence_id = rank[i][0]\n",
        "  new_vector = sentences_embeddings[sentence_id]\n",
        "  sent_char_num = len(sentences[sentence_id])\n",
        "  redundancy = [sentences_embeddings[k] for k in sentence_ids\n",
        "                if (1 - cosine(new_vector, sentences_embeddings[k]) > redundancy_threshold)]\n",
        "\n",
        "  if not redundancy:\n",
        "      summary_char_num += sent_char_num\n",
        "      sentence_ids.append(sentence_id)\n",
        "  i += 1\n",
        "\n",
        "  if summary_char_num > summary_limit:\n",
        "      stop = True"
      ],
      "execution_count": null,
      "outputs": []
    },
    {
      "cell_type": "code",
      "metadata": {
        "id": "R6wv8D_ur_Qq",
        "outputId": "9bf598c8-fecc-4e20-8948-181e673b90cb",
        "colab": {
          "base_uri": "https://localhost:8080/",
          "height": 55
        }
      },
      "source": [
        "sentence_ids = sorted(sentence_ids)\n",
        "result_list = map(lambda sent_id: sentences[sent_id], sentence_ids)\n",
        "\n",
        "# Format output\n",
        "summary = \" \".join(result_list)\n",
        "print(summary)"
      ],
      "execution_count": null,
      "outputs": [
        {
          "output_type": "stream",
          "text": [
            "Negotiations to form the next government have become deadlocked, and opposition party leaders Prince Norodom Ranariddh and Sam Rainsy are out of the country following threats of arrest from strongman Hun Sen. Hun Sen complained Monday that the opposition was trying to make its members' return an international issue. Worried that party colleagues still face arrest for their politics, opposition leader Sam Rainsy sought further clarification Friday of security guarantees promised by strongman Hun Sen. Sam Rainsy wrote in a letter to King Norodom Sihanouk that he was eager to attend the first session of the new National Assembly on Nov. 25, but complained that Hun Sen's assurances were not strong enough to ease concerns his party members may be arrested upon their return to Cambodia.\n"
          ],
          "name": "stdout"
        }
      ]
    },
    {
      "cell_type": "code",
      "metadata": {
        "id": "timvQzAZMDlm",
        "outputId": "e59be1eb-a6f1-49e8-b9c2-8887017b1f7f",
        "colab": {
          "base_uri": "https://localhost:8080/",
          "height": 74
        }
      },
      "source": [
        "for sent in sent_tokenize(summary):\n",
        "  print(sent)"
      ],
      "execution_count": null,
      "outputs": [
        {
          "output_type": "stream",
          "text": [
            "Negotiations to form the next government have become deadlocked, and opposition party leaders Prince Norodom Ranariddh and Sam Rainsy are out of the country following threats of arrest from strongman Hun Sen. Hun Sen complained Monday that the opposition was trying to make its members' return an international issue.\n",
            "Worried that party colleagues still face arrest for their politics, opposition leader Sam Rainsy sought further clarification Friday of security guarantees promised by strongman Hun Sen. Sam Rainsy wrote in a letter to King Norodom Sihanouk that he was eager to attend the first session of the new National Assembly on Nov. 25, but complained that Hun Sen's assurances were not strong enough to ease concerns his party members may be arrested upon their return to Cambodia.\n"
          ],
          "name": "stdout"
        }
      ]
    },
    {
      "cell_type": "code",
      "metadata": {
        "id": "oz15ms03Mp9N"
      },
      "source": [
        "summary_file = open(data_directory + \"summary.txt\", \"w\")\n",
        "for sent in sent_tokenize(summary):\n",
        "  summary_file.write(sent)\n",
        "summary_file.close()"
      ],
      "execution_count": null,
      "outputs": []
    },
    {
      "cell_type": "code",
      "metadata": {
        "id": "ElmQyw2cNL1q"
      },
      "source": [
        ""
      ],
      "execution_count": null,
      "outputs": []
    }
  ]
}